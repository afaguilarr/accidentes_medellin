{
 "cells": [
  {
   "cell_type": "markdown",
   "metadata": {},
   "source": [
    "## Depuración base de datos"
   ]
  },
  {
   "cell_type": "code",
   "execution_count": 5,
   "metadata": {},
   "outputs": [],
   "source": [
    "##Carga de paquetes previos\n",
    "library(ggplot2)\n",
    "library(dplyr)\n",
    "library(tidyverse)"
   ]
  },
  {
   "cell_type": "markdown",
   "metadata": {},
   "source": [
    "### Lectura base de datos\n",
    "Lee las 6 bases de datos y las junta para depurar"
   ]
  },
  {
   "cell_type": "code",
   "execution_count": 20,
   "metadata": {},
   "outputs": [
    {
     "data": {
      "text/html": [
       "'C:/Users/JF_Mra/Documents/GitHub/accidentes_medellin/Descriptiva y depuracion'"
      ],
      "text/latex": [
       "'C:/Users/JF\\_Mra/Documents/GitHub/accidentes\\_medellin/Descriptiva y depuracion'"
      ],
      "text/markdown": [
       "'C:/Users/JF_Mra/Documents/GitHub/accidentes_medellin/Descriptiva y depuracion'"
      ],
      "text/plain": [
       "[1] \"C:/Users/JF_Mra/Documents/GitHub/accidentes_medellin/Descriptiva y depuracion\""
      ]
     },
     "metadata": {},
     "output_type": "display_data"
    }
   ],
   "source": [
    "##Lectura de las 5 bases de datos desde el drectorio\n",
    "getwd() #CHECKEAR QUE EL DIRECTORIO SEA: \"/accidentes_medellin/Descriptiva y depuracion\"\n",
    "\n",
    "#Para cambiar wd usar: \"setwd(path)\" los path en R son con \"/\" en lugar de \"\\\"\n",
    "#ej: setwd(\"C:/Users/JF_Mra/Documents/GitHub/accidentes_medellin/Descriptiva y depuracion\")\n",
    "\n",
    "files_names= list.files(pattern=\"*.csv\", path =  paste(getwd(),\"/Datasets\",sep=\"\"))\n",
    "path <- paste(getwd(),\"/Datasets/\",files_names,sep=\"\")\n",
    "df <- do.call(rbind, lapply(path, function(x) read.csv(x, stringsAsFactors = FALSE,encoding = 'UTF-8', ) )) ##se leen y se juntas las 6 bases de datos usando los nombres de los archivos."
   ]
  },
  {
   "cell_type": "markdown",
   "metadata": {},
   "source": [
    "### Depuración de la base de datos"
   ]
  },
  {
   "cell_type": "code",
   "execution_count": 21,
   "metadata": {},
   "outputs": [],
   "source": [
    "#df$RADICADO <- as.character(df$RADICADO)\n",
    "#Se cambia el nombre de la primera columna\n",
    "df<- df %>% rename(OBJECTID = X.U.FEFF.OBJECTID)\n",
    "\n",
    "#Cambios de tpo de datos en la base\n",
    "df<- df %>% \n",
    "    mutate_at(vars(starts_with(\"RADIC\")),funs(as.character)) %>%\n",
    "    mutate_at(vars(starts_with(\"OBJECT\")),funs(as.character))"
   ]
  },
  {
   "cell_type": "markdown",
   "metadata": {},
   "source": [
    "Los elementos en zona rural carecen de barrios o comunas. Al solo sumar 258, se decide eliminarlos del analisis."
   ]
  },
  {
   "cell_type": "code",
   "execution_count": 22,
   "metadata": {},
   "outputs": [],
   "source": [
    "df2 <- df[df$TIPO_GEOCOD!=\"ZONA RURAL\",]\n",
    "##Se crea df2, nueva base de datos con las depuraciones respectivas."
   ]
  },
  {
   "cell_type": "markdown",
   "metadata": {},
   "source": [
    "Se considera que \"CON MUERTO\" es equivalente a \"MUERTO\" para la columna \"GRAVEDAD\":\n",
    "Se considera que \"Caida Ocupante\" es equivalente a \"Caida de Ocupante\" en la columna \"CLASE\""
   ]
  },
  {
   "cell_type": "code",
   "execution_count": 23,
   "metadata": {},
   "outputs": [],
   "source": [
    "df2[df2$CLASE == \"Caida Ocupante\" | df2$CLASE == \"Caída de Ocupante\" ,]$CLASE <- \"Caída Ocupante\"\n",
    "df2[df2$CLASE == \"Choque y Atropello\" | df2$CLASE ==  \"Choque \",]$CLASE = \"Choque\""
   ]
  },
  {
   "cell_type": "code",
   "execution_count": 24,
   "metadata": {},
   "outputs": [
    {
     "data": {
      "text/html": [
       "<table>\n",
       "<thead><tr><th scope=col>CLASE</th><th scope=col>n</th></tr></thead>\n",
       "<tbody>\n",
       "\t<tr><td>Choque        </td><td>141309        </td></tr>\n",
       "\t<tr><td>Otro          </td><td> 22017        </td></tr>\n",
       "\t<tr><td>Atropello     </td><td> 20667        </td></tr>\n",
       "\t<tr><td>Caída Ocupante</td><td> 18532        </td></tr>\n",
       "\t<tr><td>Volcamiento   </td><td>  6613        </td></tr>\n",
       "\t<tr><td>Incendio      </td><td>    24        </td></tr>\n",
       "\t<tr><td>              </td><td>     6        </td></tr>\n",
       "</tbody>\n",
       "</table>\n"
      ],
      "text/latex": [
       "\\begin{tabular}{r|ll}\n",
       " CLASE & n\\\\\n",
       "\\hline\n",
       "\t Choque         & 141309        \\\\\n",
       "\t Otro           &  22017        \\\\\n",
       "\t Atropello      &  20667        \\\\\n",
       "\t Caída Ocupante &  18532        \\\\\n",
       "\t Volcamiento    &   6613        \\\\\n",
       "\t Incendio       &     24        \\\\\n",
       "\t                &      6        \\\\\n",
       "\\end{tabular}\n"
      ],
      "text/markdown": [
       "\n",
       "CLASE | n | \n",
       "|---|---|---|---|---|---|---|\n",
       "| Choque         | 141309         | \n",
       "| Otro           |  22017         | \n",
       "| Atropello      |  20667         | \n",
       "| Caída Ocupante |  18532         | \n",
       "| Volcamiento    |   6613         | \n",
       "| Incendio       |     24         | \n",
       "|                |      6         | \n",
       "\n",
       "\n"
      ],
      "text/plain": [
       "  CLASE          n     \n",
       "1 Choque         141309\n",
       "2 Otro            22017\n",
       "3 Atropello       20667\n",
       "4 Caída Ocupante  18532\n",
       "5 Volcamiento      6613\n",
       "6 Incendio           24\n",
       "7                     6"
      ]
     },
     "metadata": {},
     "output_type": "display_data"
    },
    {
     "data": {
      "text/html": [
       "<table>\n",
       "<thead><tr><th scope=col>GRAVEDAD</th><th scope=col>n</th></tr></thead>\n",
       "<tbody>\n",
       "\t<tr><td>CON MUERTO</td><td>    73    </td></tr>\n",
       "\t<tr><td>HERIDO    </td><td>114022    </td></tr>\n",
       "\t<tr><td>MUERTO    </td><td>  1166    </td></tr>\n",
       "\t<tr><td>SOLO DAÑOS</td><td> 93907    </td></tr>\n",
       "</tbody>\n",
       "</table>\n"
      ],
      "text/latex": [
       "\\begin{tabular}{r|ll}\n",
       " GRAVEDAD & n\\\\\n",
       "\\hline\n",
       "\t CON MUERTO &     73    \\\\\n",
       "\t HERIDO     & 114022    \\\\\n",
       "\t MUERTO     &   1166    \\\\\n",
       "\t SOLO DAÑOS &  93907    \\\\\n",
       "\\end{tabular}\n"
      ],
      "text/markdown": [
       "\n",
       "GRAVEDAD | n | \n",
       "|---|---|---|---|\n",
       "| CON MUERTO |     73     | \n",
       "| HERIDO     | 114022     | \n",
       "| MUERTO     |   1166     | \n",
       "| SOLO DAÑOS |  93907     | \n",
       "\n",
       "\n"
      ],
      "text/plain": [
       "  GRAVEDAD   n     \n",
       "1 CON MUERTO     73\n",
       "2 HERIDO     114022\n",
       "3 MUERTO       1166\n",
       "4 SOLO DAÑOS  93907"
      ]
     },
     "metadata": {},
     "output_type": "display_data"
    }
   ],
   "source": [
    "clase_c<-count(df2, CLASE)\n",
    "clase_c[order(-clase_c$n),]\n",
    "count(df2, GRAVEDAD)"
   ]
  },
  {
   "cell_type": "markdown",
   "metadata": {},
   "source": [
    "Se decide que el objeto de estudio es Medellín y sus 16 comunas."
   ]
  },
  {
   "cell_type": "code",
   "execution_count": 25,
   "metadata": {},
   "outputs": [],
   "source": [
    "##Los datos relevantes que se excluyen corresponden a los 5 corregimientos, que definen la zona rural de medellín\n",
    "\n",
    "comunas <- count(df2, COMUNA) \n",
    "#head(comunas[order(-comunas$n),],25) #Numero de accidentes por comuna/corregimiento\n",
    "comunas_relevantes <- head(comunas[order(-comunas$n),][1], 16) \n",
    "df3 <- df2 #saving df2\n",
    "df2 <- df2[df2$COMUNA %in% as.vector(unlist(comunas_relevantes)),]\n"
   ]
  },
  {
   "cell_type": "markdown",
   "metadata": {},
   "source": [
    "Se encuentra que hay un numero de obervaciones con el Radicado repetido. Tras detallada inspección se determina que no son duplicados."
   ]
  },
  {
   "cell_type": "code",
   "execution_count": 26,
   "metadata": {},
   "outputs": [
    {
     "data": {
      "text/html": [
       "<table>\n",
       "<thead><tr><th></th><th scope=col>OBJECTID</th><th scope=col>X</th><th scope=col>Y</th><th scope=col>RADICADO</th><th scope=col>FECHA</th><th scope=col>HORA</th><th scope=col>DIA</th><th scope=col>PERIODO</th><th scope=col>CLASE</th><th scope=col>DIRECCION</th><th scope=col>DIRECCION_ENC</th><th scope=col>CBML</th><th scope=col>TIPO_GEOCOD</th><th scope=col>GRAVEDAD</th><th scope=col>BARRIO</th><th scope=col>COMUNA</th><th scope=col>DISENO</th><th scope=col>DIA_NOMBRE</th><th scope=col>MES</th></tr></thead>\n",
       "<tbody>\n",
       "\t<tr><th scope=row>2957</th><td>217630                          </td><td>833732.1                        </td><td>1182874                         </td><td>1430393                         </td><td>2014-02-23T00:00:00.000Z        </td><td>09:30 PM                        </td><td>23                              </td><td>2014                            </td><td>Choque                          </td><td>CR 62 CL 44                     </td><td>CR  062   044  000 00000        </td><td>1008                            </td><td>Malla vial                      </td><td>SOLO DAÑOS                      </td><td>Corazón de Jesús                </td><td>La Candelaria                   </td><td>Tramo de via                    </td><td>DOMINGO                         </td><td> 2                              </td></tr>\n",
       "\t<tr><th scope=row>3176</th><td>217866                          </td><td>834514.0                        </td><td>1187689                         </td><td>1430683                         </td><td>2014-02-25T00:00:00.000Z        </td><td>07:00 PM                        </td><td>25                              </td><td>2014                            </td><td>Caída Ocupante                  </td><td>CR 69 CL 96                     </td><td>CR  069   096  000 00000        </td><td>0511                            </td><td>Malla vial                      </td><td>HERIDO                          </td><td>Castilla                        </td><td>Castilla                        </td><td>Tramo de via                    </td><td>MARTES                          </td><td> 2                              </td></tr>\n",
       "\t<tr><th scope=row>26308</th><td>240313                          </td><td>832734.3                        </td><td>1183037                         </td><td>1453578                         </td><td>2014-08-18T00:00:00.000Z        </td><td>10:00 AM                        </td><td>18                              </td><td>2014                            </td><td>Choque                          </td><td>CL 44 CR 70                     </td><td>CL  044   070  000 00000        </td><td>1117                            </td><td>Malla vial                      </td><td>HERIDO                          </td><td>Florida Nueva                   </td><td>Laureles Estadio                </td><td>Tramo de via                    </td><td>LUNES                           </td><td> 8                              </td></tr>\n",
       "\t<tr><th scope=row>83894</th><td>260266                          </td><td>832480.7                        </td><td>1183222                         </td><td>1520986                         </td><td>2016-01-30T00:00:00.000Z        </td><td>10:40 PM                        </td><td>30                              </td><td>2016                            </td><td>Choque                          </td><td>CL 45 D CR 72                   </td><td>CL  045 D   072  000 00000      </td><td>1117                            </td><td>Malla vial                      </td><td>SOLO DAÑOS                      </td><td>Florida Nueva                   </td><td>Laureles Estadio                </td><td>Tramo de via                    </td><td>SÁBADO                          </td><td> 1                              </td></tr>\n",
       "\t<tr><th scope=row>83905</th><td>260278                          </td><td>834474.5                        </td><td>1184612                         </td><td>1521025                         </td><td>2016-01-31T00:00:00.000Z        </td><td>12:50 PM                        </td><td>31                              </td><td>2016                            </td><td>Otro                            </td><td>CR 63 CL 67                     </td><td>CR  063   067  000 00000        </td><td>0701                            </td><td>Malla vial                      </td><td>HERIDO                          </td><td>Universidad Nacional            </td><td>Robledo                         </td><td>Tramo de via                    </td><td>DOMINGO                         </td><td> 1                              </td></tr>\n",
       "\t<tr><th scope=row>83849</th><td>260217                          </td><td>834292.8                        </td><td>1182688                         </td><td>1521099                         </td><td>2016-01-30T00:00:00.000Z        </td><td>01:00 PM                        </td><td>30                              </td><td>2016                            </td><td>Choque                          </td><td>CR 57 CL 44                     </td><td>CR  057   044  000 00000        </td><td>1007                            </td><td>Malla vial                      </td><td>SOLO DAÑOS                      </td><td>Guayaquil                       </td><td>La Candelaria                   </td><td>Glorieta                        </td><td>SÁBADO                          </td><td> 1                              </td></tr>\n",
       "\t<tr><th scope=row>87547</th><td>262273                          </td><td>833654.0                        </td><td>1182901                         </td><td>1523002                         </td><td>2016-02-15T00:00:00.000Z        </td><td>07:45 AM                        </td><td>15                              </td><td>2016                            </td><td>Otro                            </td><td>CR 63 CL 44                     </td><td>CR  063   044  000 00000        </td><td>1103                            </td><td>Malla vial                      </td><td>HERIDO                          </td><td>Naranjal                        </td><td>Laureles Estadio                </td><td>Tramo de via                    </td><td>LUNES                           </td><td> 2                              </td></tr>\n",
       "\t<tr><th scope=row>88018</th><td>262793                          </td><td>833473.3                        </td><td>1183849                         </td><td>1523853                         </td><td>2016-02-18T00:00:00.000Z        </td><td>04:30 PM                        </td><td>18                              </td><td>2016                            </td><td>Choque                          </td><td>CL 50 CR 66                     </td><td>CL  050   066  000 00000        </td><td>1101                            </td><td>Malla vial                      </td><td>SOLO DAÑOS                      </td><td>Carlos E. Restrepo              </td><td>Laureles Estadio                </td><td>Tramo de via                    </td><td>JUEVES                          </td><td> 2                              </td></tr>\n",
       "\t<tr><th scope=row>125796</th><td>345235                          </td><td>832897.6                        </td><td>1178123                         </td><td>1563627                         </td><td>2016-12-20T00:00:00.000Z        </td><td>12:30 AM                        </td><td>20                              </td><td>2016                            </td><td>Otro                            </td><td>CL 6 Sur CR 52                  </td><td>CL S 006   052  000 00000       </td><td>1509                            </td><td>Malla vial                      </td><td>HERIDO                          </td><td>Cristo Rey                      </td><td>Guayabal                        </td><td>Tramo de via                    </td><td>MARTES                          </td><td>12                              </td></tr>\n",
       "\t<tr><th scope=row>125628</th><td>345050                          </td><td>831478.2                        </td><td>1182303                         </td><td>1563785                         </td><td>2016-12-19T00:00:00.000Z        </td><td>09:00 PM                        </td><td>19                              </td><td>2016                            </td><td>Choque                          </td><td>CR 80 CL 35                     </td><td>CR  080   035  000 00000        </td><td>1109                            </td><td>Malla vial                      </td><td>SOLO DAÑOS                      </td><td>Las Acacias                     </td><td>Laureles Estadio                </td><td>Glorieta                        </td><td>LUNES                           </td><td>12                              </td></tr>\n",
       "\t<tr><th scope=row>125795</th><td>345234                          </td><td>834078.4                        </td><td>1178557                         </td><td>1563798                         </td><td>2016-12-20T00:00:00.000Z        </td><td>12:15 PM                        </td><td>20                              </td><td>2016                            </td><td>Choque                          </td><td>CR 49 CL 7                      </td><td>CR  049   007  000 00000        </td><td>1421                            </td><td>Malla vial aproximada: CR 48-7  </td><td>HERIDO                          </td><td>Patio Bonito                    </td><td>El Poblado                      </td><td>Tramo de via                    </td><td>MARTES                          </td><td>12                              </td></tr>\n",
       "\t<tr><th scope=row>125629</th><td>345051                          </td><td>832701.2                        </td><td>1184217                         </td><td>1563838                         </td><td>2016-12-19T00:00:00.000Z        </td><td>05:30 PM                        </td><td>19                              </td><td>2016                            </td><td>Otro                            </td><td>CL 50 CR 73                     </td><td>CL  050   073  000 00000        </td><td>1115                            </td><td>Malla vial                      </td><td>HERIDO                          </td><td>Cuarta Brigada                  </td><td>Laureles Estadio                </td><td>Tramo de via                    </td><td>LUNES                           </td><td>12                              </td></tr>\n",
       "\t<tr><th scope=row>140217</th><td>520416                          </td><td>833473.0                        </td><td>1178151                         </td><td>1570222                         </td><td>2017-02-12T00:00:00.000Z        </td><td>10:00 AM                        </td><td>12                              </td><td>2017                            </td><td>Atropello                       </td><td>CL 2 sur CR 50 E                </td><td>CL S 002   050 E  000 00000     </td><td>1509                            </td><td>Malla vial                      </td><td>HERIDO                          </td><td>Cristo Rey                      </td><td>Guayabal                        </td><td>Tramo de via                    </td><td>DOMINGO                         </td><td> 2                              </td></tr>\n",
       "\t<tr><th scope=row>140216</th><td>520415                          </td><td>832918.0                        </td><td>1184826                         </td><td>1570612                         </td><td>2017-02-12T00:00:00.000Z        </td><td>01:20 PM                        </td><td>12                              </td><td>2017                            </td><td>Choque                          </td><td>CL 60 CR 74                     </td><td>CL  060   074  000 00000        </td><td>0703                            </td><td>Malla vial                      </td><td>HERIDO                          </td><td>San Germán                      </td><td>Robledo                         </td><td>Tramo de via                    </td><td>DOMINGO                         </td><td> 2                              </td></tr>\n",
       "\t<tr><th scope=row>177247</th><td>557365                          </td><td>834497.9                        </td><td>1177252                         </td><td>1619738                         </td><td>2018-03-12T00:00:00.000Z        </td><td>12:10 PM                        </td><td>12                              </td><td>2018                            </td><td>Choque                          </td><td>CR 43 CL 7 Sur                  </td><td>CR  043  S 007  000 00000       </td><td>1415                            </td><td>Malla vial aproximada: CR S 42-7</td><td>SOLO DAÑOS                      </td><td>Los Balsos No.2                 </td><td>El Poblado                      </td><td>Lote o Predio                   </td><td>LUNES                           </td><td> 3                              </td></tr>\n",
       "\t<tr><th scope=row>182947</th><td>563475                          </td><td>835302.3                        </td><td>1178555                         </td><td>1622875                         </td><td>2018-04-08T00:00:00.000Z        </td><td>12:15 AM                        </td><td> 8                              </td><td>2018                            </td><td>Choque                          </td><td>CL 10 CR 35                     </td><td>CL  010   035  000 00000        </td><td>1418                            </td><td>Malla vial                      </td><td>SOLO DAÑOS                      </td><td>El Poblado                      </td><td>El Poblado                      </td><td>Tramo de via                    </td><td>DOMINGO                         </td><td> 4                              </td></tr>\n",
       "\t<tr><th scope=row>194909</th><td>672209                          </td><td>835519.4                        </td><td>1183870                         </td><td>1643385                         </td><td>2018-09-24T00:00:00.000Z        </td><td>01:00:00 p. m.                  </td><td>24                              </td><td>2018                            </td><td>Choque                          </td><td>CL 59 CR 50                     </td><td>CL  059   050  000 00000        </td><td>1001                            </td><td>Malla vial                      </td><td>HERIDO                          </td><td>Prado                           </td><td>La Candelaria                   </td><td>Interseccion                    </td><td>LUNES                           </td><td> 9                              </td></tr>\n",
       "\t<tr><th scope=row>195463</th><td>672800                          </td><td>833277.6                        </td><td>1187112                         </td><td>1644980                         </td><td>2018-10-05T00:00:00.000Z        </td><td>05:15:00 p. m.                  </td><td> 5                              </td><td>2018                            </td><td>Atropello                       </td><td>CR 78 A CL 89                   </td><td>CR  078 A   089  000 00000      </td><td>06070090002                     </td><td>Nomenclatura con Interior       </td><td>HERIDO                          </td><td>Kennedy                         </td><td>Doce de Octubre                 </td><td>Tramo de via                    </td><td>VIERNES                         </td><td>10                              </td></tr>\n",
       "\t<tr><th scope=row>202070</th><td>680894                          </td><td>833887.5                        </td><td>1179103                         </td><td>1646112                         </td><td>2018-10-17T00:00:00.000Z        </td><td>05:40:00 a. m.                  </td><td>17                              </td><td>2018                            </td><td>Choque                          </td><td>CR 50 CL 10                     </td><td>CR  050   010  000 00000        </td><td>1507                            </td><td>Malla vial                      </td><td>HERIDO                          </td><td>Campo Amor                      </td><td>Guayabal                        </td><td>Tramo de via                    </td><td>MIÉRCOLES                       </td><td>10                              </td></tr>\n",
       "\t<tr><th scope=row>203809</th><td>681782                          </td><td>830763.6                        </td><td>1179803                         </td><td>1646588                         </td><td>2018-10-18T00:00:00.000Z        </td><td>05:30:00 p. m.                  </td><td>18                              </td><td>2018                            </td><td>Atropello                       </td><td>CL 8 CR 84 A                    </td><td>CL  008   084 A  000 00000      </td><td>1612                            </td><td>Malla vial aproximada: CL 9-84  </td><td>HERIDO                          </td><td>La Gloria                       </td><td>Belén                           </td><td>Tramo de via                    </td><td>JUEVES                          </td><td>10                              </td></tr>\n",
       "\t<tr><th scope=row>204352</th><td>682353                          </td><td>835949.1                        </td><td>1178913                         </td><td>1646707                         </td><td>2018-10-20T00:00:00.000Z        </td><td>02:40:00 a. m.                  </td><td>20                              </td><td>2018                            </td><td>Otro                            </td><td>CL 11 CR 30 A                   </td><td>CL  011   030 A  000 00000      </td><td>1406                            </td><td>Malla vial                      </td><td>SOLO DAÑOS                      </td><td>Las Lomas No.1                  </td><td>El Poblado                      </td><td>Tramo de via                    </td><td>SÁBADO                          </td><td>10                              </td></tr>\n",
       "\t<tr><th scope=row>202787</th><td>678668                          </td><td>833467.2                        </td><td>1189074                         </td><td>1648340                         </td><td>2018-11-05T00:00:00.000Z        </td><td>06:00:00 a. m.                  </td><td> 5                              </td><td>2018                            </td><td>Caída Ocupante                  </td><td>CL 102 CR 83                    </td><td>CL  102   083  000 00000        </td><td>0610                            </td><td>Malla vial                      </td><td>HERIDO                          </td><td>Mirador del Doce                </td><td>Doce de Octubre                 </td><td>Lote o Predio                   </td><td>LUNES                           </td><td>11                              </td></tr>\n",
       "\t<tr><th scope=row>203156</th><td>679080                          </td><td>838020.4                        </td><td>1185754                         </td><td>1649415                         </td><td>2018-11-12T00:00:00.000Z        </td><td>05:00:00 p. m.                  </td><td>12                              </td><td>2018                            </td><td>Caída Ocupante                  </td><td>CL 83 CR 25 C                   </td><td>CL  083   025 C  000 00000      </td><td>0312                            </td><td>Malla vial aproximada: CL 83-26 </td><td>HERIDO                          </td><td>Oriente                         </td><td>Manrique                        </td><td>Lote o Predio                   </td><td>LUNES                           </td><td>11                              </td></tr>\n",
       "\t<tr><th scope=row>199998</th><td>677673                          </td><td>834705.5                        </td><td>1181954                         </td><td>1649641                         </td><td>2018-11-14T00:00:00.000Z        </td><td>06:30:00 p. m.                  </td><td>14                              </td><td>2018                            </td><td>Choque                          </td><td>CR 48 CL 39                     </td><td>CR  048   039  000 00000        </td><td>1013                            </td><td>Malla vial                      </td><td>HERIDO                          </td><td>Barrio Colón                    </td><td>La Candelaria                   </td><td>Tramo de via                    </td><td>MIÉRCOLES                       </td><td>11                              </td></tr>\n",
       "\t<tr><th scope=row>206819</th><td>684018                          </td><td>835923.2                        </td><td>1184156                         </td><td>1651657                         </td><td>2018-12-01T00:00:00.000Z        </td><td>05:00:00 p. m.                  </td><td> 1                              </td><td>2018                            </td><td>Otro                            </td><td>CR 48 CL 63 A                   </td><td>CR  048   063 A  000 00000      </td><td>1001                            </td><td>EPM con Interior                </td><td>HERIDO                          </td><td>Prado                           </td><td>La Candelaria                   </td><td>Interseccion                    </td><td>SÁBADO                          </td><td>12                              </td></tr>\n",
       "\t<tr><th scope=row>207332</th><td>686573                          </td><td>831642.1                        </td><td>1179800                         </td><td>1652298                         </td><td>2018-12-05T00:00:00.000Z        </td><td>05:40:00 p. m.                  </td><td> 5                              </td><td>2018                            </td><td>Choque                          </td><td>CR 76 CL 10                     </td><td>CR  076   010  000 00000        </td><td>1606                            </td><td>Malla vial                      </td><td>SOLO DAÑOS                      </td><td>Las Playas                      </td><td>Belén                           </td><td>Tramo de via                    </td><td>MIÉRCOLES                       </td><td>12                              </td></tr>\n",
       "\t<tr><th scope=row>206918</th><td>684124                          </td><td>837902.7                        </td><td>1188140                         </td><td>1653071                         </td><td>2018-12-12T00:00:00.000Z        </td><td>06:30:00 a. m.                  </td><td>12                              </td><td>2018                            </td><td>Caída Ocupante                  </td><td>CR 32 CL 107                    </td><td>CR  032   107  000 00000        </td><td>0101                            </td><td>Malla vial                      </td><td>HERIDO                          </td><td>Santo Domingo Savio No. 1       </td><td>Popular                         </td><td>Lote o Predio                   </td><td>MIÉRCOLES                       </td><td>12                              </td></tr>\n",
       "\t<tr><th scope=row>207068</th><td>684292                          </td><td>833797.4                        </td><td>1179496                         </td><td>1653523                         </td><td>2018-12-12T00:00:00.000Z        </td><td>07:50:00 a. m.                  </td><td>12                              </td><td>2018                            </td><td>Choque                          </td><td>CL 14 CR 51                     </td><td>CL  014   051  000 00000        </td><td>1504                            </td><td>Malla vial                      </td><td>SOLO DAÑOS                      </td><td>Santa Fé                        </td><td>Guayabal                        </td><td>Tramo de via                    </td><td>MIÉRCOLES                       </td><td>12                              </td></tr>\n",
       "\t<tr><th scope=row>206578</th><td>683756                          </td><td>833239.9                        </td><td>1186926                         </td><td>1654325                         </td><td>2018-12-22T00:00:00.000Z        </td><td>08:00:00 p. m.                  </td><td>22                              </td><td>2018                            </td><td>Caída Ocupante                  </td><td>CR 80 CL 80                     </td><td>CR  080   080  000 00000        </td><td>0710                            </td><td>Malla vial                      </td><td>HERIDO                          </td><td>López de Mesa                   </td><td>Robledo                         </td><td>Lote o Predio                   </td><td>SÁBADO                          </td><td>12                              </td></tr>\n",
       "\t<tr><th scope=row>206594</th><td>683772                          </td><td>834695.4                        </td><td>1187477                         </td><td>1654391                         </td><td>2018-12-22T00:00:00.000Z        </td><td>11:40:00 p. m.                  </td><td>22                              </td><td>2018                            </td><td>Choque                          </td><td>CR 66 CL 95                     </td><td>CR  066   095  000 00000        </td><td>0511                            </td><td>Malla vial                      </td><td>SOLO DAÑOS                      </td><td>Castilla                        </td><td>Castilla                        </td><td>Interseccion                    </td><td>SÁBADO                          </td><td>12                              </td></tr>\n",
       "\t<tr><th scope=row>NA</th><td>NA                              </td><td>      NA                        </td><td>     NA                         </td><td>NA                              </td><td>NA                              </td><td>NA                              </td><td>NA                              </td><td>  NA                            </td><td>NA                              </td><td>NA                              </td><td>NA                              </td><td>NA                              </td><td>NA                              </td><td>NA                              </td><td>NA                              </td><td>NA                              </td><td>NA                              </td><td>NA                              </td><td>NA                              </td></tr>\n",
       "\t<tr><th scope=row>NA.1</th><td>NA                              </td><td>      NA                        </td><td>     NA                         </td><td>NA                              </td><td>NA                              </td><td>NA                              </td><td>NA                              </td><td>  NA                            </td><td>NA                              </td><td>NA                              </td><td>NA                              </td><td>NA                              </td><td>NA                              </td><td>NA                              </td><td>NA                              </td><td>NA                              </td><td>NA                              </td><td>NA                              </td><td>NA                              </td></tr>\n",
       "\t<tr><th scope=row>NA.2</th><td>NA                              </td><td>      NA                        </td><td>     NA                         </td><td>NA                              </td><td>NA                              </td><td>NA                              </td><td>NA                              </td><td>  NA                            </td><td>NA                              </td><td>NA                              </td><td>NA                              </td><td>NA                              </td><td>NA                              </td><td>NA                              </td><td>NA                              </td><td>NA                              </td><td>NA                              </td><td>NA                              </td><td>NA                              </td></tr>\n",
       "\t<tr><th scope=row>NA.3</th><td>NA                              </td><td>      NA                        </td><td>     NA                         </td><td>NA                              </td><td>NA                              </td><td>NA                              </td><td>NA                              </td><td>  NA                            </td><td>NA                              </td><td>NA                              </td><td>NA                              </td><td>NA                              </td><td>NA                              </td><td>NA                              </td><td>NA                              </td><td>NA                              </td><td>NA                              </td><td>NA                              </td><td>NA                              </td></tr>\n",
       "</tbody>\n",
       "</table>\n"
      ],
      "text/latex": [
       "\\begin{tabular}{r|lllllllllllllllllll}\n",
       "  & OBJECTID & X & Y & RADICADO & FECHA & HORA & DIA & PERIODO & CLASE & DIRECCION & DIRECCION\\_ENC & CBML & TIPO\\_GEOCOD & GRAVEDAD & BARRIO & COMUNA & DISENO & DIA\\_NOMBRE & MES\\\\\n",
       "\\hline\n",
       "\t2957 & 217630                           & 833732.1                         & 1182874                          & 1430393                          & 2014-02-23T00:00:00.000Z         & 09:30 PM                         & 23                               & 2014                             & Choque                           & CR 62 CL 44                      & CR  062   044  000 00000         & 1008                             & Malla vial                       & SOLO DAÑOS                       & Corazón de Jesús                 & La Candelaria                    & Tramo de via                     & DOMINGO                          &  2                              \\\\\n",
       "\t3176 & 217866                           & 834514.0                         & 1187689                          & 1430683                          & 2014-02-25T00:00:00.000Z         & 07:00 PM                         & 25                               & 2014                             & Caída Ocupante                   & CR 69 CL 96                      & CR  069   096  000 00000         & 0511                             & Malla vial                       & HERIDO                           & Castilla                         & Castilla                         & Tramo de via                     & MARTES                           &  2                              \\\\\n",
       "\t26308 & 240313                           & 832734.3                         & 1183037                          & 1453578                          & 2014-08-18T00:00:00.000Z         & 10:00 AM                         & 18                               & 2014                             & Choque                           & CL 44 CR 70                      & CL  044   070  000 00000         & 1117                             & Malla vial                       & HERIDO                           & Florida Nueva                    & Laureles Estadio                 & Tramo de via                     & LUNES                            &  8                              \\\\\n",
       "\t83894 & 260266                           & 832480.7                         & 1183222                          & 1520986                          & 2016-01-30T00:00:00.000Z         & 10:40 PM                         & 30                               & 2016                             & Choque                           & CL 45 D CR 72                    & CL  045 D   072  000 00000       & 1117                             & Malla vial                       & SOLO DAÑOS                       & Florida Nueva                    & Laureles Estadio                 & Tramo de via                     & SÁBADO                           &  1                              \\\\\n",
       "\t83905 & 260278                           & 834474.5                         & 1184612                          & 1521025                          & 2016-01-31T00:00:00.000Z         & 12:50 PM                         & 31                               & 2016                             & Otro                             & CR 63 CL 67                      & CR  063   067  000 00000         & 0701                             & Malla vial                       & HERIDO                           & Universidad Nacional             & Robledo                          & Tramo de via                     & DOMINGO                          &  1                              \\\\\n",
       "\t83849 & 260217                           & 834292.8                         & 1182688                          & 1521099                          & 2016-01-30T00:00:00.000Z         & 01:00 PM                         & 30                               & 2016                             & Choque                           & CR 57 CL 44                      & CR  057   044  000 00000         & 1007                             & Malla vial                       & SOLO DAÑOS                       & Guayaquil                        & La Candelaria                    & Glorieta                         & SÁBADO                           &  1                              \\\\\n",
       "\t87547 & 262273                           & 833654.0                         & 1182901                          & 1523002                          & 2016-02-15T00:00:00.000Z         & 07:45 AM                         & 15                               & 2016                             & Otro                             & CR 63 CL 44                      & CR  063   044  000 00000         & 1103                             & Malla vial                       & HERIDO                           & Naranjal                         & Laureles Estadio                 & Tramo de via                     & LUNES                            &  2                              \\\\\n",
       "\t88018 & 262793                           & 833473.3                         & 1183849                          & 1523853                          & 2016-02-18T00:00:00.000Z         & 04:30 PM                         & 18                               & 2016                             & Choque                           & CL 50 CR 66                      & CL  050   066  000 00000         & 1101                             & Malla vial                       & SOLO DAÑOS                       & Carlos E. Restrepo               & Laureles Estadio                 & Tramo de via                     & JUEVES                           &  2                              \\\\\n",
       "\t125796 & 345235                           & 832897.6                         & 1178123                          & 1563627                          & 2016-12-20T00:00:00.000Z         & 12:30 AM                         & 20                               & 2016                             & Otro                             & CL 6 Sur CR 52                   & CL S 006   052  000 00000        & 1509                             & Malla vial                       & HERIDO                           & Cristo Rey                       & Guayabal                         & Tramo de via                     & MARTES                           & 12                              \\\\\n",
       "\t125628 & 345050                           & 831478.2                         & 1182303                          & 1563785                          & 2016-12-19T00:00:00.000Z         & 09:00 PM                         & 19                               & 2016                             & Choque                           & CR 80 CL 35                      & CR  080   035  000 00000         & 1109                             & Malla vial                       & SOLO DAÑOS                       & Las Acacias                      & Laureles Estadio                 & Glorieta                         & LUNES                            & 12                              \\\\\n",
       "\t125795 & 345234                           & 834078.4                         & 1178557                          & 1563798                          & 2016-12-20T00:00:00.000Z         & 12:15 PM                         & 20                               & 2016                             & Choque                           & CR 49 CL 7                       & CR  049   007  000 00000         & 1421                             & Malla vial aproximada: CR 48-7   & HERIDO                           & Patio Bonito                     & El Poblado                       & Tramo de via                     & MARTES                           & 12                              \\\\\n",
       "\t125629 & 345051                           & 832701.2                         & 1184217                          & 1563838                          & 2016-12-19T00:00:00.000Z         & 05:30 PM                         & 19                               & 2016                             & Otro                             & CL 50 CR 73                      & CL  050   073  000 00000         & 1115                             & Malla vial                       & HERIDO                           & Cuarta Brigada                   & Laureles Estadio                 & Tramo de via                     & LUNES                            & 12                              \\\\\n",
       "\t140217 & 520416                           & 833473.0                         & 1178151                          & 1570222                          & 2017-02-12T00:00:00.000Z         & 10:00 AM                         & 12                               & 2017                             & Atropello                        & CL 2 sur CR 50 E                 & CL S 002   050 E  000 00000      & 1509                             & Malla vial                       & HERIDO                           & Cristo Rey                       & Guayabal                         & Tramo de via                     & DOMINGO                          &  2                              \\\\\n",
       "\t140216 & 520415                           & 832918.0                         & 1184826                          & 1570612                          & 2017-02-12T00:00:00.000Z         & 01:20 PM                         & 12                               & 2017                             & Choque                           & CL 60 CR 74                      & CL  060   074  000 00000         & 0703                             & Malla vial                       & HERIDO                           & San Germán                       & Robledo                          & Tramo de via                     & DOMINGO                          &  2                              \\\\\n",
       "\t177247 & 557365                           & 834497.9                         & 1177252                          & 1619738                          & 2018-03-12T00:00:00.000Z         & 12:10 PM                         & 12                               & 2018                             & Choque                           & CR 43 CL 7 Sur                   & CR  043  S 007  000 00000        & 1415                             & Malla vial aproximada: CR S 42-7 & SOLO DAÑOS                       & Los Balsos No.2                  & El Poblado                       & Lote o Predio                    & LUNES                            &  3                              \\\\\n",
       "\t182947 & 563475                           & 835302.3                         & 1178555                          & 1622875                          & 2018-04-08T00:00:00.000Z         & 12:15 AM                         &  8                               & 2018                             & Choque                           & CL 10 CR 35                      & CL  010   035  000 00000         & 1418                             & Malla vial                       & SOLO DAÑOS                       & El Poblado                       & El Poblado                       & Tramo de via                     & DOMINGO                          &  4                              \\\\\n",
       "\t194909 & 672209                           & 835519.4                         & 1183870                          & 1643385                          & 2018-09-24T00:00:00.000Z         & 01:00:00 p. m.                   & 24                               & 2018                             & Choque                           & CL 59 CR 50                      & CL  059   050  000 00000         & 1001                             & Malla vial                       & HERIDO                           & Prado                            & La Candelaria                    & Interseccion                     & LUNES                            &  9                              \\\\\n",
       "\t195463 & 672800                           & 833277.6                         & 1187112                          & 1644980                          & 2018-10-05T00:00:00.000Z         & 05:15:00 p. m.                   &  5                               & 2018                             & Atropello                        & CR 78 A CL 89                    & CR  078 A   089  000 00000       & 06070090002                      & Nomenclatura con Interior        & HERIDO                           & Kennedy                          & Doce de Octubre                  & Tramo de via                     & VIERNES                          & 10                              \\\\\n",
       "\t202070 & 680894                           & 833887.5                         & 1179103                          & 1646112                          & 2018-10-17T00:00:00.000Z         & 05:40:00 a. m.                   & 17                               & 2018                             & Choque                           & CR 50 CL 10                      & CR  050   010  000 00000         & 1507                             & Malla vial                       & HERIDO                           & Campo Amor                       & Guayabal                         & Tramo de via                     & MIÉRCOLES                        & 10                              \\\\\n",
       "\t203809 & 681782                           & 830763.6                         & 1179803                          & 1646588                          & 2018-10-18T00:00:00.000Z         & 05:30:00 p. m.                   & 18                               & 2018                             & Atropello                        & CL 8 CR 84 A                     & CL  008   084 A  000 00000       & 1612                             & Malla vial aproximada: CL 9-84   & HERIDO                           & La Gloria                        & Belén                            & Tramo de via                     & JUEVES                           & 10                              \\\\\n",
       "\t204352 & 682353                           & 835949.1                         & 1178913                          & 1646707                          & 2018-10-20T00:00:00.000Z         & 02:40:00 a. m.                   & 20                               & 2018                             & Otro                             & CL 11 CR 30 A                    & CL  011   030 A  000 00000       & 1406                             & Malla vial                       & SOLO DAÑOS                       & Las Lomas No.1                   & El Poblado                       & Tramo de via                     & SÁBADO                           & 10                              \\\\\n",
       "\t202787 & 678668                           & 833467.2                         & 1189074                          & 1648340                          & 2018-11-05T00:00:00.000Z         & 06:00:00 a. m.                   &  5                               & 2018                             & Caída Ocupante                   & CL 102 CR 83                     & CL  102   083  000 00000         & 0610                             & Malla vial                       & HERIDO                           & Mirador del Doce                 & Doce de Octubre                  & Lote o Predio                    & LUNES                            & 11                              \\\\\n",
       "\t203156 & 679080                           & 838020.4                         & 1185754                          & 1649415                          & 2018-11-12T00:00:00.000Z         & 05:00:00 p. m.                   & 12                               & 2018                             & Caída Ocupante                   & CL 83 CR 25 C                    & CL  083   025 C  000 00000       & 0312                             & Malla vial aproximada: CL 83-26  & HERIDO                           & Oriente                          & Manrique                         & Lote o Predio                    & LUNES                            & 11                              \\\\\n",
       "\t199998 & 677673                           & 834705.5                         & 1181954                          & 1649641                          & 2018-11-14T00:00:00.000Z         & 06:30:00 p. m.                   & 14                               & 2018                             & Choque                           & CR 48 CL 39                      & CR  048   039  000 00000         & 1013                             & Malla vial                       & HERIDO                           & Barrio Colón                     & La Candelaria                    & Tramo de via                     & MIÉRCOLES                        & 11                              \\\\\n",
       "\t206819 & 684018                           & 835923.2                         & 1184156                          & 1651657                          & 2018-12-01T00:00:00.000Z         & 05:00:00 p. m.                   &  1                               & 2018                             & Otro                             & CR 48 CL 63 A                    & CR  048   063 A  000 00000       & 1001                             & EPM con Interior                 & HERIDO                           & Prado                            & La Candelaria                    & Interseccion                     & SÁBADO                           & 12                              \\\\\n",
       "\t207332 & 686573                           & 831642.1                         & 1179800                          & 1652298                          & 2018-12-05T00:00:00.000Z         & 05:40:00 p. m.                   &  5                               & 2018                             & Choque                           & CR 76 CL 10                      & CR  076   010  000 00000         & 1606                             & Malla vial                       & SOLO DAÑOS                       & Las Playas                       & Belén                            & Tramo de via                     & MIÉRCOLES                        & 12                              \\\\\n",
       "\t206918 & 684124                           & 837902.7                         & 1188140                          & 1653071                          & 2018-12-12T00:00:00.000Z         & 06:30:00 a. m.                   & 12                               & 2018                             & Caída Ocupante                   & CR 32 CL 107                     & CR  032   107  000 00000         & 0101                             & Malla vial                       & HERIDO                           & Santo Domingo Savio No. 1        & Popular                          & Lote o Predio                    & MIÉRCOLES                        & 12                              \\\\\n",
       "\t207068 & 684292                           & 833797.4                         & 1179496                          & 1653523                          & 2018-12-12T00:00:00.000Z         & 07:50:00 a. m.                   & 12                               & 2018                             & Choque                           & CL 14 CR 51                      & CL  014   051  000 00000         & 1504                             & Malla vial                       & SOLO DAÑOS                       & Santa Fé                         & Guayabal                         & Tramo de via                     & MIÉRCOLES                        & 12                              \\\\\n",
       "\t206578 & 683756                           & 833239.9                         & 1186926                          & 1654325                          & 2018-12-22T00:00:00.000Z         & 08:00:00 p. m.                   & 22                               & 2018                             & Caída Ocupante                   & CR 80 CL 80                      & CR  080   080  000 00000         & 0710                             & Malla vial                       & HERIDO                           & López de Mesa                    & Robledo                          & Lote o Predio                    & SÁBADO                           & 12                              \\\\\n",
       "\t206594 & 683772                           & 834695.4                         & 1187477                          & 1654391                          & 2018-12-22T00:00:00.000Z         & 11:40:00 p. m.                   & 22                               & 2018                             & Choque                           & CR 66 CL 95                      & CR  066   095  000 00000         & 0511                             & Malla vial                       & SOLO DAÑOS                       & Castilla                         & Castilla                         & Interseccion                     & SÁBADO                           & 12                              \\\\\n",
       "\tNA & NA                               &       NA                         &      NA                          & NA                               & NA                               & NA                               & NA                               &   NA                             & NA                               & NA                               & NA                               & NA                               & NA                               & NA                               & NA                               & NA                               & NA                               & NA                               & NA                              \\\\\n",
       "\tNA.1 & NA                               &       NA                         &      NA                          & NA                               & NA                               & NA                               & NA                               &   NA                             & NA                               & NA                               & NA                               & NA                               & NA                               & NA                               & NA                               & NA                               & NA                               & NA                               & NA                              \\\\\n",
       "\tNA.2 & NA                               &       NA                         &      NA                          & NA                               & NA                               & NA                               & NA                               &   NA                             & NA                               & NA                               & NA                               & NA                               & NA                               & NA                               & NA                               & NA                               & NA                               & NA                               & NA                              \\\\\n",
       "\tNA.3 & NA                               &       NA                         &      NA                          & NA                               & NA                               & NA                               & NA                               &   NA                             & NA                               & NA                               & NA                               & NA                               & NA                               & NA                               & NA                               & NA                               & NA                               & NA                               & NA                              \\\\\n",
       "\\end{tabular}\n"
      ],
      "text/markdown": [
       "\n",
       "| <!--/--> | OBJECTID | X | Y | RADICADO | FECHA | HORA | DIA | PERIODO | CLASE | DIRECCION | DIRECCION_ENC | CBML | TIPO_GEOCOD | GRAVEDAD | BARRIO | COMUNA | DISENO | DIA_NOMBRE | MES | \n",
       "|---|---|---|---|---|---|---|---|---|---|---|---|---|---|---|---|---|---|---|---|---|---|---|---|---|---|---|---|---|---|---|---|---|---|\n",
       "| 2957 | 217630                           | 833732.1                         | 1182874                          | 1430393                          | 2014-02-23T00:00:00.000Z         | 09:30 PM                         | 23                               | 2014                             | Choque                           | CR 62 CL 44                      | CR  062   044  000 00000         | 1008                             | Malla vial                       | SOLO DAÑOS                       | Corazón de Jesús                 | La Candelaria                    | Tramo de via                     | DOMINGO                          |  2                               | \n",
       "| 3176 | 217866                           | 834514.0                         | 1187689                          | 1430683                          | 2014-02-25T00:00:00.000Z         | 07:00 PM                         | 25                               | 2014                             | Caída Ocupante                   | CR 69 CL 96                      | CR  069   096  000 00000         | 0511                             | Malla vial                       | HERIDO                           | Castilla                         | Castilla                         | Tramo de via                     | MARTES                           |  2                               | \n",
       "| 26308 | 240313                           | 832734.3                         | 1183037                          | 1453578                          | 2014-08-18T00:00:00.000Z         | 10:00 AM                         | 18                               | 2014                             | Choque                           | CL 44 CR 70                      | CL  044   070  000 00000         | 1117                             | Malla vial                       | HERIDO                           | Florida Nueva                    | Laureles Estadio                 | Tramo de via                     | LUNES                            |  8                               | \n",
       "| 83894 | 260266                           | 832480.7                         | 1183222                          | 1520986                          | 2016-01-30T00:00:00.000Z         | 10:40 PM                         | 30                               | 2016                             | Choque                           | CL 45 D CR 72                    | CL  045 D   072  000 00000       | 1117                             | Malla vial                       | SOLO DAÑOS                       | Florida Nueva                    | Laureles Estadio                 | Tramo de via                     | SÁBADO                           |  1                               | \n",
       "| 83905 | 260278                           | 834474.5                         | 1184612                          | 1521025                          | 2016-01-31T00:00:00.000Z         | 12:50 PM                         | 31                               | 2016                             | Otro                             | CR 63 CL 67                      | CR  063   067  000 00000         | 0701                             | Malla vial                       | HERIDO                           | Universidad Nacional             | Robledo                          | Tramo de via                     | DOMINGO                          |  1                               | \n",
       "| 83849 | 260217                           | 834292.8                         | 1182688                          | 1521099                          | 2016-01-30T00:00:00.000Z         | 01:00 PM                         | 30                               | 2016                             | Choque                           | CR 57 CL 44                      | CR  057   044  000 00000         | 1007                             | Malla vial                       | SOLO DAÑOS                       | Guayaquil                        | La Candelaria                    | Glorieta                         | SÁBADO                           |  1                               | \n",
       "| 87547 | 262273                           | 833654.0                         | 1182901                          | 1523002                          | 2016-02-15T00:00:00.000Z         | 07:45 AM                         | 15                               | 2016                             | Otro                             | CR 63 CL 44                      | CR  063   044  000 00000         | 1103                             | Malla vial                       | HERIDO                           | Naranjal                         | Laureles Estadio                 | Tramo de via                     | LUNES                            |  2                               | \n",
       "| 88018 | 262793                           | 833473.3                         | 1183849                          | 1523853                          | 2016-02-18T00:00:00.000Z         | 04:30 PM                         | 18                               | 2016                             | Choque                           | CL 50 CR 66                      | CL  050   066  000 00000         | 1101                             | Malla vial                       | SOLO DAÑOS                       | Carlos E. Restrepo               | Laureles Estadio                 | Tramo de via                     | JUEVES                           |  2                               | \n",
       "| 125796 | 345235                           | 832897.6                         | 1178123                          | 1563627                          | 2016-12-20T00:00:00.000Z         | 12:30 AM                         | 20                               | 2016                             | Otro                             | CL 6 Sur CR 52                   | CL S 006   052  000 00000        | 1509                             | Malla vial                       | HERIDO                           | Cristo Rey                       | Guayabal                         | Tramo de via                     | MARTES                           | 12                               | \n",
       "| 125628 | 345050                           | 831478.2                         | 1182303                          | 1563785                          | 2016-12-19T00:00:00.000Z         | 09:00 PM                         | 19                               | 2016                             | Choque                           | CR 80 CL 35                      | CR  080   035  000 00000         | 1109                             | Malla vial                       | SOLO DAÑOS                       | Las Acacias                      | Laureles Estadio                 | Glorieta                         | LUNES                            | 12                               | \n",
       "| 125795 | 345234                           | 834078.4                         | 1178557                          | 1563798                          | 2016-12-20T00:00:00.000Z         | 12:15 PM                         | 20                               | 2016                             | Choque                           | CR 49 CL 7                       | CR  049   007  000 00000         | 1421                             | Malla vial aproximada: CR 48-7   | HERIDO                           | Patio Bonito                     | El Poblado                       | Tramo de via                     | MARTES                           | 12                               | \n",
       "| 125629 | 345051                           | 832701.2                         | 1184217                          | 1563838                          | 2016-12-19T00:00:00.000Z         | 05:30 PM                         | 19                               | 2016                             | Otro                             | CL 50 CR 73                      | CL  050   073  000 00000         | 1115                             | Malla vial                       | HERIDO                           | Cuarta Brigada                   | Laureles Estadio                 | Tramo de via                     | LUNES                            | 12                               | \n",
       "| 140217 | 520416                           | 833473.0                         | 1178151                          | 1570222                          | 2017-02-12T00:00:00.000Z         | 10:00 AM                         | 12                               | 2017                             | Atropello                        | CL 2 sur CR 50 E                 | CL S 002   050 E  000 00000      | 1509                             | Malla vial                       | HERIDO                           | Cristo Rey                       | Guayabal                         | Tramo de via                     | DOMINGO                          |  2                               | \n",
       "| 140216 | 520415                           | 832918.0                         | 1184826                          | 1570612                          | 2017-02-12T00:00:00.000Z         | 01:20 PM                         | 12                               | 2017                             | Choque                           | CL 60 CR 74                      | CL  060   074  000 00000         | 0703                             | Malla vial                       | HERIDO                           | San Germán                       | Robledo                          | Tramo de via                     | DOMINGO                          |  2                               | \n",
       "| 177247 | 557365                           | 834497.9                         | 1177252                          | 1619738                          | 2018-03-12T00:00:00.000Z         | 12:10 PM                         | 12                               | 2018                             | Choque                           | CR 43 CL 7 Sur                   | CR  043  S 007  000 00000        | 1415                             | Malla vial aproximada: CR S 42-7 | SOLO DAÑOS                       | Los Balsos No.2                  | El Poblado                       | Lote o Predio                    | LUNES                            |  3                               | \n",
       "| 182947 | 563475                           | 835302.3                         | 1178555                          | 1622875                          | 2018-04-08T00:00:00.000Z         | 12:15 AM                         |  8                               | 2018                             | Choque                           | CL 10 CR 35                      | CL  010   035  000 00000         | 1418                             | Malla vial                       | SOLO DAÑOS                       | El Poblado                       | El Poblado                       | Tramo de via                     | DOMINGO                          |  4                               | \n",
       "| 194909 | 672209                           | 835519.4                         | 1183870                          | 1643385                          | 2018-09-24T00:00:00.000Z         | 01:00:00 p. m.                   | 24                               | 2018                             | Choque                           | CL 59 CR 50                      | CL  059   050  000 00000         | 1001                             | Malla vial                       | HERIDO                           | Prado                            | La Candelaria                    | Interseccion                     | LUNES                            |  9                               | \n",
       "| 195463 | 672800                           | 833277.6                         | 1187112                          | 1644980                          | 2018-10-05T00:00:00.000Z         | 05:15:00 p. m.                   |  5                               | 2018                             | Atropello                        | CR 78 A CL 89                    | CR  078 A   089  000 00000       | 06070090002                      | Nomenclatura con Interior        | HERIDO                           | Kennedy                          | Doce de Octubre                  | Tramo de via                     | VIERNES                          | 10                               | \n",
       "| 202070 | 680894                           | 833887.5                         | 1179103                          | 1646112                          | 2018-10-17T00:00:00.000Z         | 05:40:00 a. m.                   | 17                               | 2018                             | Choque                           | CR 50 CL 10                      | CR  050   010  000 00000         | 1507                             | Malla vial                       | HERIDO                           | Campo Amor                       | Guayabal                         | Tramo de via                     | MIÉRCOLES                        | 10                               | \n",
       "| 203809 | 681782                           | 830763.6                         | 1179803                          | 1646588                          | 2018-10-18T00:00:00.000Z         | 05:30:00 p. m.                   | 18                               | 2018                             | Atropello                        | CL 8 CR 84 A                     | CL  008   084 A  000 00000       | 1612                             | Malla vial aproximada: CL 9-84   | HERIDO                           | La Gloria                        | Belén                            | Tramo de via                     | JUEVES                           | 10                               | \n",
       "| 204352 | 682353                           | 835949.1                         | 1178913                          | 1646707                          | 2018-10-20T00:00:00.000Z         | 02:40:00 a. m.                   | 20                               | 2018                             | Otro                             | CL 11 CR 30 A                    | CL  011   030 A  000 00000       | 1406                             | Malla vial                       | SOLO DAÑOS                       | Las Lomas No.1                   | El Poblado                       | Tramo de via                     | SÁBADO                           | 10                               | \n",
       "| 202787 | 678668                           | 833467.2                         | 1189074                          | 1648340                          | 2018-11-05T00:00:00.000Z         | 06:00:00 a. m.                   |  5                               | 2018                             | Caída Ocupante                   | CL 102 CR 83                     | CL  102   083  000 00000         | 0610                             | Malla vial                       | HERIDO                           | Mirador del Doce                 | Doce de Octubre                  | Lote o Predio                    | LUNES                            | 11                               | \n",
       "| 203156 | 679080                           | 838020.4                         | 1185754                          | 1649415                          | 2018-11-12T00:00:00.000Z         | 05:00:00 p. m.                   | 12                               | 2018                             | Caída Ocupante                   | CL 83 CR 25 C                    | CL  083   025 C  000 00000       | 0312                             | Malla vial aproximada: CL 83-26  | HERIDO                           | Oriente                          | Manrique                         | Lote o Predio                    | LUNES                            | 11                               | \n",
       "| 199998 | 677673                           | 834705.5                         | 1181954                          | 1649641                          | 2018-11-14T00:00:00.000Z         | 06:30:00 p. m.                   | 14                               | 2018                             | Choque                           | CR 48 CL 39                      | CR  048   039  000 00000         | 1013                             | Malla vial                       | HERIDO                           | Barrio Colón                     | La Candelaria                    | Tramo de via                     | MIÉRCOLES                        | 11                               | \n",
       "| 206819 | 684018                           | 835923.2                         | 1184156                          | 1651657                          | 2018-12-01T00:00:00.000Z         | 05:00:00 p. m.                   |  1                               | 2018                             | Otro                             | CR 48 CL 63 A                    | CR  048   063 A  000 00000       | 1001                             | EPM con Interior                 | HERIDO                           | Prado                            | La Candelaria                    | Interseccion                     | SÁBADO                           | 12                               | \n",
       "| 207332 | 686573                           | 831642.1                         | 1179800                          | 1652298                          | 2018-12-05T00:00:00.000Z         | 05:40:00 p. m.                   |  5                               | 2018                             | Choque                           | CR 76 CL 10                      | CR  076   010  000 00000         | 1606                             | Malla vial                       | SOLO DAÑOS                       | Las Playas                       | Belén                            | Tramo de via                     | MIÉRCOLES                        | 12                               | \n",
       "| 206918 | 684124                           | 837902.7                         | 1188140                          | 1653071                          | 2018-12-12T00:00:00.000Z         | 06:30:00 a. m.                   | 12                               | 2018                             | Caída Ocupante                   | CR 32 CL 107                     | CR  032   107  000 00000         | 0101                             | Malla vial                       | HERIDO                           | Santo Domingo Savio No. 1        | Popular                          | Lote o Predio                    | MIÉRCOLES                        | 12                               | \n",
       "| 207068 | 684292                           | 833797.4                         | 1179496                          | 1653523                          | 2018-12-12T00:00:00.000Z         | 07:50:00 a. m.                   | 12                               | 2018                             | Choque                           | CL 14 CR 51                      | CL  014   051  000 00000         | 1504                             | Malla vial                       | SOLO DAÑOS                       | Santa Fé                         | Guayabal                         | Tramo de via                     | MIÉRCOLES                        | 12                               | \n",
       "| 206578 | 683756                           | 833239.9                         | 1186926                          | 1654325                          | 2018-12-22T00:00:00.000Z         | 08:00:00 p. m.                   | 22                               | 2018                             | Caída Ocupante                   | CR 80 CL 80                      | CR  080   080  000 00000         | 0710                             | Malla vial                       | HERIDO                           | López de Mesa                    | Robledo                          | Lote o Predio                    | SÁBADO                           | 12                               | \n",
       "| 206594 | 683772                           | 834695.4                         | 1187477                          | 1654391                          | 2018-12-22T00:00:00.000Z         | 11:40:00 p. m.                   | 22                               | 2018                             | Choque                           | CR 66 CL 95                      | CR  066   095  000 00000         | 0511                             | Malla vial                       | SOLO DAÑOS                       | Castilla                         | Castilla                         | Interseccion                     | SÁBADO                           | 12                               | \n",
       "| NA | NA                               |       NA                         |      NA                          | NA                               | NA                               | NA                               | NA                               |   NA                             | NA                               | NA                               | NA                               | NA                               | NA                               | NA                               | NA                               | NA                               | NA                               | NA                               | NA                               | \n",
       "| NA.1 | NA                               |       NA                         |      NA                          | NA                               | NA                               | NA                               | NA                               |   NA                             | NA                               | NA                               | NA                               | NA                               | NA                               | NA                               | NA                               | NA                               | NA                               | NA                               | NA                               | \n",
       "| NA.2 | NA                               |       NA                         |      NA                          | NA                               | NA                               | NA                               | NA                               |   NA                             | NA                               | NA                               | NA                               | NA                               | NA                               | NA                               | NA                               | NA                               | NA                               | NA                               | NA                               | \n",
       "| NA.3 | NA                               |       NA                         |      NA                          | NA                               | NA                               | NA                               | NA                               |   NA                             | NA                               | NA                               | NA                               | NA                               | NA                               | NA                               | NA                               | NA                               | NA                               | NA                               | NA                               | \n",
       "\n",
       "\n"
      ],
      "text/plain": [
       "       OBJECTID X        Y       RADICADO FECHA                   \n",
       "2957   217630   833732.1 1182874 1430393  2014-02-23T00:00:00.000Z\n",
       "3176   217866   834514.0 1187689 1430683  2014-02-25T00:00:00.000Z\n",
       "26308  240313   832734.3 1183037 1453578  2014-08-18T00:00:00.000Z\n",
       "83894  260266   832480.7 1183222 1520986  2016-01-30T00:00:00.000Z\n",
       "83905  260278   834474.5 1184612 1521025  2016-01-31T00:00:00.000Z\n",
       "83849  260217   834292.8 1182688 1521099  2016-01-30T00:00:00.000Z\n",
       "87547  262273   833654.0 1182901 1523002  2016-02-15T00:00:00.000Z\n",
       "88018  262793   833473.3 1183849 1523853  2016-02-18T00:00:00.000Z\n",
       "125796 345235   832897.6 1178123 1563627  2016-12-20T00:00:00.000Z\n",
       "125628 345050   831478.2 1182303 1563785  2016-12-19T00:00:00.000Z\n",
       "125795 345234   834078.4 1178557 1563798  2016-12-20T00:00:00.000Z\n",
       "125629 345051   832701.2 1184217 1563838  2016-12-19T00:00:00.000Z\n",
       "140217 520416   833473.0 1178151 1570222  2017-02-12T00:00:00.000Z\n",
       "140216 520415   832918.0 1184826 1570612  2017-02-12T00:00:00.000Z\n",
       "177247 557365   834497.9 1177252 1619738  2018-03-12T00:00:00.000Z\n",
       "182947 563475   835302.3 1178555 1622875  2018-04-08T00:00:00.000Z\n",
       "194909 672209   835519.4 1183870 1643385  2018-09-24T00:00:00.000Z\n",
       "195463 672800   833277.6 1187112 1644980  2018-10-05T00:00:00.000Z\n",
       "202070 680894   833887.5 1179103 1646112  2018-10-17T00:00:00.000Z\n",
       "203809 681782   830763.6 1179803 1646588  2018-10-18T00:00:00.000Z\n",
       "204352 682353   835949.1 1178913 1646707  2018-10-20T00:00:00.000Z\n",
       "202787 678668   833467.2 1189074 1648340  2018-11-05T00:00:00.000Z\n",
       "203156 679080   838020.4 1185754 1649415  2018-11-12T00:00:00.000Z\n",
       "199998 677673   834705.5 1181954 1649641  2018-11-14T00:00:00.000Z\n",
       "206819 684018   835923.2 1184156 1651657  2018-12-01T00:00:00.000Z\n",
       "207332 686573   831642.1 1179800 1652298  2018-12-05T00:00:00.000Z\n",
       "206918 684124   837902.7 1188140 1653071  2018-12-12T00:00:00.000Z\n",
       "207068 684292   833797.4 1179496 1653523  2018-12-12T00:00:00.000Z\n",
       "206578 683756   833239.9 1186926 1654325  2018-12-22T00:00:00.000Z\n",
       "206594 683772   834695.4 1187477 1654391  2018-12-22T00:00:00.000Z\n",
       "NA     NA             NA      NA NA       NA                      \n",
       "NA.1   NA             NA      NA NA       NA                      \n",
       "NA.2   NA             NA      NA NA       NA                      \n",
       "NA.3   NA             NA      NA NA       NA                      \n",
       "       HORA           DIA PERIODO CLASE          DIRECCION       \n",
       "2957   09:30 PM       23  2014    Choque         CR 62 CL 44     \n",
       "3176   07:00 PM       25  2014    Caída Ocupante CR 69 CL 96     \n",
       "26308  10:00 AM       18  2014    Choque         CL 44 CR 70     \n",
       "83894  10:40 PM       30  2016    Choque         CL 45 D CR 72   \n",
       "83905  12:50 PM       31  2016    Otro           CR 63 CL 67     \n",
       "83849  01:00 PM       30  2016    Choque         CR 57 CL 44     \n",
       "87547  07:45 AM       15  2016    Otro           CR 63 CL 44     \n",
       "88018  04:30 PM       18  2016    Choque         CL 50 CR 66     \n",
       "125796 12:30 AM       20  2016    Otro           CL 6 Sur CR 52  \n",
       "125628 09:00 PM       19  2016    Choque         CR 80 CL 35     \n",
       "125795 12:15 PM       20  2016    Choque         CR 49 CL 7      \n",
       "125629 05:30 PM       19  2016    Otro           CL 50 CR 73     \n",
       "140217 10:00 AM       12  2017    Atropello      CL 2 sur CR 50 E\n",
       "140216 01:20 PM       12  2017    Choque         CL 60 CR 74     \n",
       "177247 12:10 PM       12  2018    Choque         CR 43 CL 7 Sur  \n",
       "182947 12:15 AM        8  2018    Choque         CL 10 CR 35     \n",
       "194909 01:00:00 p. m. 24  2018    Choque         CL 59 CR 50     \n",
       "195463 05:15:00 p. m.  5  2018    Atropello      CR 78 A CL 89   \n",
       "202070 05:40:00 a. m. 17  2018    Choque         CR 50 CL 10     \n",
       "203809 05:30:00 p. m. 18  2018    Atropello      CL 8 CR 84 A    \n",
       "204352 02:40:00 a. m. 20  2018    Otro           CL 11 CR 30 A   \n",
       "202787 06:00:00 a. m.  5  2018    Caída Ocupante CL 102 CR 83    \n",
       "203156 05:00:00 p. m. 12  2018    Caída Ocupante CL 83 CR 25 C   \n",
       "199998 06:30:00 p. m. 14  2018    Choque         CR 48 CL 39     \n",
       "206819 05:00:00 p. m.  1  2018    Otro           CR 48 CL 63 A   \n",
       "207332 05:40:00 p. m.  5  2018    Choque         CR 76 CL 10     \n",
       "206918 06:30:00 a. m. 12  2018    Caída Ocupante CR 32 CL 107    \n",
       "207068 07:50:00 a. m. 12  2018    Choque         CL 14 CR 51     \n",
       "206578 08:00:00 p. m. 22  2018    Caída Ocupante CR 80 CL 80     \n",
       "206594 11:40:00 p. m. 22  2018    Choque         CR 66 CL 95     \n",
       "NA     NA             NA    NA    NA             NA              \n",
       "NA.1   NA             NA    NA    NA             NA              \n",
       "NA.2   NA             NA    NA    NA             NA              \n",
       "NA.3   NA             NA    NA    NA             NA              \n",
       "       DIRECCION_ENC               CBML        TIPO_GEOCOD                     \n",
       "2957   CR  062   044  000 00000    1008        Malla vial                      \n",
       "3176   CR  069   096  000 00000    0511        Malla vial                      \n",
       "26308  CL  044   070  000 00000    1117        Malla vial                      \n",
       "83894  CL  045 D   072  000 00000  1117        Malla vial                      \n",
       "83905  CR  063   067  000 00000    0701        Malla vial                      \n",
       "83849  CR  057   044  000 00000    1007        Malla vial                      \n",
       "87547  CR  063   044  000 00000    1103        Malla vial                      \n",
       "88018  CL  050   066  000 00000    1101        Malla vial                      \n",
       "125796 CL S 006   052  000 00000   1509        Malla vial                      \n",
       "125628 CR  080   035  000 00000    1109        Malla vial                      \n",
       "125795 CR  049   007  000 00000    1421        Malla vial aproximada: CR 48-7  \n",
       "125629 CL  050   073  000 00000    1115        Malla vial                      \n",
       "140217 CL S 002   050 E  000 00000 1509        Malla vial                      \n",
       "140216 CL  060   074  000 00000    0703        Malla vial                      \n",
       "177247 CR  043  S 007  000 00000   1415        Malla vial aproximada: CR S 42-7\n",
       "182947 CL  010   035  000 00000    1418        Malla vial                      \n",
       "194909 CL  059   050  000 00000    1001        Malla vial                      \n",
       "195463 CR  078 A   089  000 00000  06070090002 Nomenclatura con Interior       \n",
       "202070 CR  050   010  000 00000    1507        Malla vial                      \n",
       "203809 CL  008   084 A  000 00000  1612        Malla vial aproximada: CL 9-84  \n",
       "204352 CL  011   030 A  000 00000  1406        Malla vial                      \n",
       "202787 CL  102   083  000 00000    0610        Malla vial                      \n",
       "203156 CL  083   025 C  000 00000  0312        Malla vial aproximada: CL 83-26 \n",
       "199998 CR  048   039  000 00000    1013        Malla vial                      \n",
       "206819 CR  048   063 A  000 00000  1001        EPM con Interior                \n",
       "207332 CR  076   010  000 00000    1606        Malla vial                      \n",
       "206918 CR  032   107  000 00000    0101        Malla vial                      \n",
       "207068 CL  014   051  000 00000    1504        Malla vial                      \n",
       "206578 CR  080   080  000 00000    0710        Malla vial                      \n",
       "206594 CR  066   095  000 00000    0511        Malla vial                      \n",
       "NA     NA                          NA          NA                              \n",
       "NA.1   NA                          NA          NA                              \n",
       "NA.2   NA                          NA          NA                              \n",
       "NA.3   NA                          NA          NA                              \n",
       "       GRAVEDAD   BARRIO                    COMUNA           DISENO       \n",
       "2957   SOLO DAÑOS Corazón de Jesús          La Candelaria    Tramo de via \n",
       "3176   HERIDO     Castilla                  Castilla         Tramo de via \n",
       "26308  HERIDO     Florida Nueva             Laureles Estadio Tramo de via \n",
       "83894  SOLO DAÑOS Florida Nueva             Laureles Estadio Tramo de via \n",
       "83905  HERIDO     Universidad Nacional      Robledo          Tramo de via \n",
       "83849  SOLO DAÑOS Guayaquil                 La Candelaria    Glorieta     \n",
       "87547  HERIDO     Naranjal                  Laureles Estadio Tramo de via \n",
       "88018  SOLO DAÑOS Carlos E. Restrepo        Laureles Estadio Tramo de via \n",
       "125796 HERIDO     Cristo Rey                Guayabal         Tramo de via \n",
       "125628 SOLO DAÑOS Las Acacias               Laureles Estadio Glorieta     \n",
       "125795 HERIDO     Patio Bonito              El Poblado       Tramo de via \n",
       "125629 HERIDO     Cuarta Brigada            Laureles Estadio Tramo de via \n",
       "140217 HERIDO     Cristo Rey                Guayabal         Tramo de via \n",
       "140216 HERIDO     San Germán                Robledo          Tramo de via \n",
       "177247 SOLO DAÑOS Los Balsos No.2           El Poblado       Lote o Predio\n",
       "182947 SOLO DAÑOS El Poblado                El Poblado       Tramo de via \n",
       "194909 HERIDO     Prado                     La Candelaria    Interseccion \n",
       "195463 HERIDO     Kennedy                   Doce de Octubre  Tramo de via \n",
       "202070 HERIDO     Campo Amor                Guayabal         Tramo de via \n",
       "203809 HERIDO     La Gloria                 Belén            Tramo de via \n",
       "204352 SOLO DAÑOS Las Lomas No.1            El Poblado       Tramo de via \n",
       "202787 HERIDO     Mirador del Doce          Doce de Octubre  Lote o Predio\n",
       "203156 HERIDO     Oriente                   Manrique         Lote o Predio\n",
       "199998 HERIDO     Barrio Colón              La Candelaria    Tramo de via \n",
       "206819 HERIDO     Prado                     La Candelaria    Interseccion \n",
       "207332 SOLO DAÑOS Las Playas                Belén            Tramo de via \n",
       "206918 HERIDO     Santo Domingo Savio No. 1 Popular          Lote o Predio\n",
       "207068 SOLO DAÑOS Santa Fé                  Guayabal         Tramo de via \n",
       "206578 HERIDO     López de Mesa             Robledo          Lote o Predio\n",
       "206594 SOLO DAÑOS Castilla                  Castilla         Interseccion \n",
       "NA     NA         NA                        NA               NA           \n",
       "NA.1   NA         NA                        NA               NA           \n",
       "NA.2   NA         NA                        NA               NA           \n",
       "NA.3   NA         NA                        NA               NA           \n",
       "       DIA_NOMBRE MES\n",
       "2957   DOMINGO     2 \n",
       "3176   MARTES      2 \n",
       "26308  LUNES       8 \n",
       "83894  SÁBADO      1 \n",
       "83905  DOMINGO     1 \n",
       "83849  SÁBADO      1 \n",
       "87547  LUNES       2 \n",
       "88018  JUEVES      2 \n",
       "125796 MARTES     12 \n",
       "125628 LUNES      12 \n",
       "125795 MARTES     12 \n",
       "125629 LUNES      12 \n",
       "140217 DOMINGO     2 \n",
       "140216 DOMINGO     2 \n",
       "177247 LUNES       3 \n",
       "182947 DOMINGO     4 \n",
       "194909 LUNES       9 \n",
       "195463 VIERNES    10 \n",
       "202070 MIÉRCOLES  10 \n",
       "203809 JUEVES     10 \n",
       "204352 SÁBADO     10 \n",
       "202787 LUNES      11 \n",
       "203156 LUNES      11 \n",
       "199998 MIÉRCOLES  11 \n",
       "206819 SÁBADO     12 \n",
       "207332 MIÉRCOLES  12 \n",
       "206918 MIÉRCOLES  12 \n",
       "207068 MIÉRCOLES  12 \n",
       "206578 SÁBADO     12 \n",
       "206594 SÁBADO     12 \n",
       "NA     NA         NA \n",
       "NA.1   NA         NA \n",
       "NA.2   NA         NA \n",
       "NA.3   NA         NA "
      ]
     },
     "metadata": {},
     "output_type": "display_data"
    }
   ],
   "source": [
    "n_occur <- data.frame(table(df2$RADICADO))\n",
    "a<-df2[df3$RADICADO %in% n_occur$Var1[n_occur$Freq > 1],] ## Algunas 5 o 6 tienen los mismos datos. Pero la gran mayoria varian en varias columnas\n",
    "a[order(a$RADICADO),] #listado de todos los archivos con mismo radicado"
   ]
  },
  {
   "cell_type": "markdown",
   "metadata": {},
   "source": [
    "### Inspeccion de NAs\n",
    "De momento opto por remover los NA, luego podemos ver si es preferible realiza imputaciones."
   ]
  },
  {
   "cell_type": "code",
   "execution_count": 27,
   "metadata": {},
   "outputs": [
    {
     "name": "stdout",
     "output_type": "stream",
     "text": [
      "[1] \"El numero de datos con NA es: 1045\"\n"
     ]
    }
   ],
   "source": [
    "##ESta es la lista de los NA y los barrios con NA's o espacios vacios, si desea eliminarlos o hacerles imputación más adelante\n",
    "df2[df2 == \"\"] <- NA\n",
    "na_DF <- df2[rowSums(is.na(df2)) > 0,]#\n",
    "final.df<- na.omit(df2) #DF sin NAs\n",
    "\n",
    "print(paste(\"El numero de datos con NA es:\" , as.character(dim(na_DF)[1])))\n"
   ]
  },
  {
   "cell_type": "markdown",
   "metadata": {},
   "source": [
    "Tras las modificaciones de arriba de los 209426 registros originales, quedamos con 202462.\n",
    "\n",
    "## Exportación de dfs:"
   ]
  },
  {
   "cell_type": "code",
   "execution_count": 28,
   "metadata": {},
   "outputs": [],
   "source": [
    "write.csv(final.df, \"df_depurada_1.csv\", row.names=F) ##Exporta el dataframe final al directorio"
   ]
  },
  {
   "cell_type": "code",
   "execution_count": 18,
   "metadata": {},
   "outputs": [],
   "source": []
  },
  {
   "cell_type": "code",
   "execution_count": 19,
   "metadata": {},
   "outputs": [
    {
     "data": {
      "text/html": [
       "'C:/Users/JF_Mra/Documents/GitHub/accidentes_medellin/Descriptiva y depuracion'"
      ],
      "text/latex": [
       "'C:/Users/JF\\_Mra/Documents/GitHub/accidentes\\_medellin/Descriptiva y depuracion'"
      ],
      "text/markdown": [
       "'C:/Users/JF_Mra/Documents/GitHub/accidentes_medellin/Descriptiva y depuracion'"
      ],
      "text/plain": [
       "[1] \"C:/Users/JF_Mra/Documents/GitHub/accidentes_medellin/Descriptiva y depuracion\""
      ]
     },
     "metadata": {},
     "output_type": "display_data"
    }
   ],
   "source": []
  },
  {
   "cell_type": "code",
   "execution_count": null,
   "metadata": {},
   "outputs": [],
   "source": []
  }
 ],
 "metadata": {
  "kernelspec": {
   "display_name": "R",
   "language": "R",
   "name": "ir"
  },
  "language_info": {
   "codemirror_mode": "r",
   "file_extension": ".r",
   "mimetype": "text/x-r-source",
   "name": "R",
   "pygments_lexer": "r",
   "version": "3.6.0"
  }
 },
 "nbformat": 4,
 "nbformat_minor": 2
}
